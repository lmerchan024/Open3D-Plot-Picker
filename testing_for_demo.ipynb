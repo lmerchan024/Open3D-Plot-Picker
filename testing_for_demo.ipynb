{
 "cells": [
  {
   "cell_type": "code",
   "execution_count": 1,
   "id": "446f0ebb-e9a0-4b15-bab3-4d2e5d70bb03",
   "metadata": {},
   "outputs": [
    {
     "name": "stdout",
     "output_type": "stream",
     "text": [
      "/home/robotics\n"
     ]
    }
   ],
   "source": [
    "cd"
   ]
  },
  {
   "cell_type": "code",
   "execution_count": 2,
   "id": "d253d4c4-f084-4e4b-b8f2-0799c9978412",
   "metadata": {},
   "outputs": [
    {
     "name": "stdout",
     "output_type": "stream",
     "text": [
      "/home/robotics/Projects/Point-Clouds\n"
     ]
    }
   ],
   "source": [
    "cd Projects/Point-Clouds/"
   ]
  },
  {
   "cell_type": "code",
   "execution_count": 3,
   "id": "886b524d-a410-4676-bea3-b6a6deb44376",
   "metadata": {},
   "outputs": [
    {
     "name": "stdout",
     "output_type": "stream",
     "text": [
      "Jupyter environment detected. Enabling Open3D WebVisualizer.\n",
      "[Open3D INFO] WebRTC GUI backend enabled.\n",
      "[Open3D INFO] WebRTCWindowSystem: HTTP handshake server disabled.\n"
     ]
    }
   ],
   "source": [
    "import open3d as o3d\n",
    "import numpy as np"
   ]
  },
  {
   "cell_type": "code",
   "execution_count": 4,
   "id": "f22e4ac6-cc49-4ece-b4e5-d96aa8474d6c",
   "metadata": {},
   "outputs": [],
   "source": [
    "def detect_planes(points_o3d): #list of all planes, as obox objects, given od3 pointcloud\n",
    "\n",
    "    points_o3d = points_o3d.voxel_down_sample(voxel_size=0.01) # downsample pointcloud\n",
    "    points_o3d.estimate_normals(search_param=o3d.geometry.KDTreeSearchParamHybrid(radius=0.1, max_nn=30)) # calcluate normals for each point\n",
    "    assert (points_o3d.has_normals()) #check if normals exist, else rise error\n",
    "\n",
    "    #detect planar patches\n",
    "    planes = points_o3d.detect_planar_patches(\n",
    "        normal_variance_threshold_deg=30,\n",
    "        coplanarity_deg=85,\n",
    "        outlier_ratio=1,\n",
    "        min_plane_edge_length=0,\n",
    "        min_num_points=0,\n",
    "        search_param=o3d.geometry.KDTreeSearchParamKNN(knn=30))\n",
    "    \n",
    "    return planes\n",
    "\n",
    "def get_center_of_plane_of_interest(plane_of_interest): #get center of a single plane\n",
    "    center = plane_of_interest.get_center()\n",
    "    return center\n",
    "\n",
    "def get_corners_of_plane_of_interest(plane_of_interest): #get the list of corners of a single plane, each element in the list is the corner as a np array\n",
    "    center_of_plane_of_interest = get_center_of_plane_of_interest(plane_of_interest)\n",
    "    R = plane_of_interest.R\n",
    "    extents = plane_of_interest.extent\n",
    "    \n",
    "    # The plane's normal is assumed to be along the axis with the smallest extent\n",
    "    min_extent_idx = np.argmin(extents)\n",
    "    indices = [0, 1, 2]\n",
    "    indices.remove(min_extent_idx)\n",
    "    \n",
    "    # Compute the four corners of the plane\n",
    "    corners_of_plane_of_interest = []\n",
    "    for i in [-1, 1]:\n",
    "        for j in [-1, 1]:\n",
    "            corner_vect = np.zeros(3)\n",
    "            corner_vect[indices[0]] = extents[indices[0]] / 2 * i\n",
    "            corner_vect[indices[1]] = extents[indices[1]] / 2 * j\n",
    "            # Ensure the corners are on the plane by making the component along the normal very small or zero\n",
    "            corner_vect[min_extent_idx] = 0  # Place the corner on the plane, assuming the plane is at the center\n",
    "            corner = center_of_plane_of_interest + R.dot(corner_vect)\n",
    "            corners_of_plane_of_interest.append(corner)\n",
    "    \n",
    "    # Convert each NumPy array corner to a list\n",
    "    corners_of_plane_of_interest = [corner.tolist() for corner in corners_of_plane_of_interest]\n",
    "\n",
    "    return corners_of_plane_of_interest\n",
    "\n",
    "def get_center_of_plane_of_interest(self, plane_of_interest): #get center of a single plane\n",
    "        center = plane_of_interest.get_center()\n",
    "        return center"
   ]
  },
  {
   "cell_type": "code",
   "execution_count": 5,
   "id": "7be8e5a6-6ed2-4589-a91a-7fedbc733dd6",
   "metadata": {},
   "outputs": [],
   "source": [
    "file_name='mani_lidar.ply'\n",
    "pcd=o3d.io.read_point_cloud(file_name)\n",
    "coord_frame=o3d.geometry.TriangleMesh.create_coordinate_frame(size=0.5, origin=[0, 0, 0])\n",
    "o3d.visualization.draw_geometries([pcd,coord_frame])"
   ]
  },
  {
   "cell_type": "code",
   "execution_count": 6,
   "id": "733d88d9-4a70-454b-97a1-40913a8737a2",
   "metadata": {},
   "outputs": [],
   "source": [
    "all_planes = detect_planes(pcd) # list of all planes, as obox objects, given o3d pointcloud\n"
   ]
  },
  {
   "cell_type": "code",
   "execution_count": 7,
   "id": "eb3c3e90-ca70-48df-8007-62492dfdda10",
   "metadata": {},
   "outputs": [
    {
     "name": "stdout",
     "output_type": "stream",
     "text": [
      "7 planes detected\n",
      "Corners of each plane:\n",
      "Corners of plane 1 = [[-0.22471723524259707, 0.1907489596479036, -0.8354654407252566], [0.49383788554304603, -0.14844670078267505, -0.7133567350358981], [-0.4701572978226834, -0.23342713291451075, -0.5694440807090698], [0.24839782296295965, -0.5726227933450894, -0.4473353750197113]]\n",
      "Corners of plane 2 = [[-0.0046974108828948605, 0.2244872091624739, -0.9308042725339686], [0.10598556536167063, 0.20537985712049506, -0.9265510709356225], [-0.03700093577381332, 0.060729219659808806, -0.8258318858084531], [0.07368204047075216, 0.041621867617829975, -0.821578684210107]]\n",
      "Corners of plane 3 = [[0.25438774988072954, 1.4645184769579913, -2.712588154048568], [0.8172356346664061, 0.07554979904768738, -1.9541916782840734], [-1.6596275163413652, 0.942905371403878, -2.2474024764875224], [-1.0967796315556888, -0.446063306506426, -1.489006000723028]]\n",
      "Corners of plane 4 = [[1.5670540161315523, 0.88346870755812, -2.500109100747301], [1.9912774211714594, 0.6098286664802801, -2.3903863833887073], [0.6573520114467828, -0.23757443848484078, -1.7787034395378345], [1.08157541648669, -0.5112144795626807, -1.6689807221792405]]\n",
      "Corners of plane 5 = [[0.09875377646595904, 0.23141027738467196, -0.6089644578080293], [0.14773101765846725, 0.327804815748196, -0.7104855357283841], [0.07440877005695222, 0.04862446876686621, -0.7942649419754866], [0.12338601124946044, 0.14501900713039023, -0.8957860198958414]]\n",
      "Corners of plane 6 = [[0.5101209187620662, 0.7576441528731037, -1.4383753893775115], [0.8785803048819761, 0.5025194942626281, -1.3417919067569672], [-0.037839293996175694, 0.12110368255405396, -1.0293622500984034], [0.3306200921237342, -0.13402097605642166, -0.9327787674778591]]\n",
      "Corners of plane 7 = [[-0.0912940503407646, 0.11568231603366864, -0.8065032898962406], [0.27887935903470773, -0.11166292884829938, -0.7065337342079732], [-0.02941820131181694, 0.13242594630220617, -0.9975435434809141], [0.3407552080636554, -0.09491929857976185, -0.8975739877926466]]\n"
     ]
    }
   ],
   "source": [
    "# Create a nested list to store corners of all planes\n",
    "all_corners = []\n",
    "\n",
    "for plane in all_planes:\n",
    "    corners = get_corners_of_plane_of_interest(plane)\n",
    "    all_corners.append(corners)\n",
    "\n",
    "\n",
    "# Output the corners of each plane\n",
    "print(len(all_corners),'planes detected')\n",
    "print('Corners of each plane:')\n",
    "for i, corners in enumerate(all_corners, 1):\n",
    "    print('Corners of plane', i, '=', corners)"
   ]
  },
  {
   "cell_type": "code",
   "execution_count": 8,
   "id": "56731acc",
   "metadata": {},
   "outputs": [],
   "source": [
    "def visualize_corners_in_pointcloud(pcd, all_corners):\n",
    "    # Create a list to store corner points\n",
    "    corner_points = []\n",
    "\n",
    "    # Flatten the nested list of corners\n",
    "    for corners in all_corners:\n",
    "        corner_points.extend(corners)\n",
    "\n",
    "    # Convert the corner points to a NumPy array\n",
    "    corner_points_np = np.array(corner_points)\n",
    "\n",
    "    # Create a point cloud for corner points\n",
    "    corners_pcd = o3d.geometry.PointCloud()\n",
    "    corners_pcd.points = o3d.utility.Vector3dVector(corner_points_np)\n",
    "\n",
    "    # Visualize the point cloud and corner points\n",
    "    return corners_pcd"
   ]
  },
  {
   "cell_type": "code",
   "execution_count": 12,
   "id": "a032f828",
   "metadata": {},
   "outputs": [],
   "source": [
    "def get_all_centers_of_detected_planes(all_planes):\n",
    "    centers = []\n",
    "    for plane in all_planes:\n",
    "        center = get_center_of_plane_of_interest(plane)\n",
    "        centers.append(center)\n",
    "    return centers"
   ]
  },
  {
   "cell_type": "code",
   "execution_count": 13,
   "id": "26d5f9a3-5914-447f-a643-d91195b76183",
   "metadata": {},
   "outputs": [],
   "source": [
    "corners_pcd = visualize_corners_in_pointcloud(pcd,all_corners)"
   ]
  },
  {
   "cell_type": "code",
   "execution_count": 14,
   "id": "fe417da3-cd21-4894-bec1-21eef6c8830a",
   "metadata": {},
   "outputs": [],
   "source": [
    "o3d.visualization.draw_geometries([pcd,corners_pcd]+all_planes)\n"
   ]
  },
  {
   "cell_type": "code",
   "execution_count": 20,
   "id": "d3d08358-c101-4ebf-adcf-6d2adf3a39c4",
   "metadata": {},
   "outputs": [
    {
     "name": "stdout",
     "output_type": "stream",
     "text": [
      "Centers of all detected planes: [array([ 0.01184029, -0.19093692, -0.64140041]), array([ 0.03449231,  0.13305454, -0.87619148]), array([-0.42119594,  0.50922759, -2.10079708]), array([ 1.32431472,  0.18612711, -2.08454491]), array([ 0.11106989,  0.18821464, -0.75237524]), array([ 0.42037051,  0.31181159, -1.18557708]), array([ 0.12473058,  0.01038151, -0.85203864])]\n"
     ]
    }
   ],
   "source": [
    "all_centers = get_all_centers_of_detected_planes(all_planes)\n",
    "print(\"Centers of all detected planes:\", all_centers)\n",
    "\n"
   ]
  },
  {
   "cell_type": "code",
   "execution_count": 23,
   "id": "a1174eb2-a607-4f73-b400-a5fcd20a24e9",
   "metadata": {},
   "outputs": [],
   "source": [
    "def create_center_point_cloud(all_centers):\n",
    "    # Convert centers list to NumPy array\n",
    "    centers_np = np.array(all_centers)\n",
    "\n",
    "    # Create a PointCloud object from the centers\n",
    "    center_pcd = o3d.geometry.PointCloud()\n",
    "    center_pcd.points = o3d.utility.Vector3dVector(centers_np)\n",
    "\n",
    "    return center_pcd"
   ]
  },
  {
   "cell_type": "code",
   "execution_count": 26,
   "id": "7321598f-b6eb-4475-b6dc-4792fc79b117",
   "metadata": {},
   "outputs": [],
   "source": [
    "centers_pcd = create_center_point_cloud(all_centers)\n",
    "o3d.visualization.draw_geometries([corners_pcd,centers_pcd]+all_planes)"
   ]
  },
  {
   "cell_type": "code",
   "execution_count": 70,
   "id": "f7410c91-3ac5-4679-b129-1a30f303c90d",
   "metadata": {},
   "outputs": [],
   "source": [
    "PoI = all_centers[4]\n",
    "offset = [1/100, 1/100, 1/100]\n",
    "\n",
    "PoI = [PoI[i] + offset[i] for i in range(len(PoI))]\n"
   ]
  },
  {
   "cell_type": "code",
   "execution_count": 71,
   "id": "9ec103e1-a967-4763-aa60-79462d41a5c6",
   "metadata": {},
   "outputs": [],
   "source": [
    "def get_plane_of_interest(PoI, all_planes):\n",
    "    all_centers = get_all_centers_of_detected_planes(all_planes)\n",
    "    \n",
    "    # Convert PoI and all_centers to numpy arrays for easier computation\n",
    "    PoI_np = np.array(PoI)\n",
    "    all_centers_np = np.array(all_centers)\n",
    "    \n",
    "    # Calculate the distances between PoI and all_centers\n",
    "    distances = np.linalg.norm(all_centers_np - PoI_np, axis=1)\n",
    "    \n",
    "    # Find the index of the closest center\n",
    "    closest_index = np.argmin(distances)\n",
    "    \n",
    "    # Select the corresponding plane\n",
    "    plane_of_interest = all_planes[closest_index]\n",
    "    \n",
    "    return plane_of_interest\n"
   ]
  },
  {
   "cell_type": "code",
   "execution_count": 72,
   "id": "5fc39b97",
   "metadata": {},
   "outputs": [],
   "source": [
    "def point_list_to_pointcloud(point_list):\n",
    "    # Create a PointCloud object\n",
    "    pointcloud = o3d.geometry.PointCloud()\n",
    "\n",
    "    # Convert the point list to Open3D Vector3dVector format and assign it to the PointCloud object\n",
    "    pointcloud.points = o3d.utility.Vector3dVector([point_list])\n",
    "\n",
    "    return pointcloud"
   ]
  },
  {
   "cell_type": "code",
   "execution_count": 73,
   "id": "c2df6443-00f3-4d6c-9a7d-d2eb41a92a4c",
   "metadata": {},
   "outputs": [],
   "source": [
    "plane_of_interest = get_plane_of_interest(PoI, all_planes)"
   ]
  },
  {
   "cell_type": "code",
   "execution_count": 74,
   "id": "534a395d-8660-402b-8b7d-a7f3e878fe3f",
   "metadata": {},
   "outputs": [],
   "source": [
    "PoI_pcd = point_list_to_pointcloud(PoI)\n",
    "PoI_pcd = PoI_pcd.paint_uniform_color([0,0,0])\n",
    "o3d.visualization.draw_geometries([corners_pcd,centers_pcd,PoI_pcd]+all_planes)\n",
    "o3d.visualization.draw_geometries([corners_pcd,centers_pcd,PoI_pcd,plane_of_interest])"
   ]
  },
  {
   "cell_type": "code",
   "execution_count": null,
   "id": "3877e92e-96ea-4851-8d65-e46e56bdcd92",
   "metadata": {},
   "outputs": [],
   "source": []
  },
  {
   "cell_type": "code",
   "execution_count": null,
   "id": "5c1701e5",
   "metadata": {},
   "outputs": [],
   "source": []
  },
  {
   "cell_type": "code",
   "execution_count": null,
   "id": "9e455a8d",
   "metadata": {},
   "outputs": [],
   "source": []
  },
  {
   "cell_type": "code",
   "execution_count": null,
   "id": "2afd3900",
   "metadata": {},
   "outputs": [],
   "source": []
  },
  {
   "cell_type": "code",
   "execution_count": null,
   "id": "ae7eb340",
   "metadata": {},
   "outputs": [],
   "source": []
  },
  {
   "cell_type": "code",
   "execution_count": null,
   "id": "8ac834c6",
   "metadata": {},
   "outputs": [],
   "source": []
  }
 ],
 "metadata": {
  "kernelspec": {
   "display_name": "Python 3",
   "language": "python",
   "name": "python3"
  },
  "language_info": {
   "codemirror_mode": {
    "name": "ipython",
    "version": 3
   },
   "file_extension": ".py",
   "mimetype": "text/x-python",
   "name": "python",
   "nbconvert_exporter": "python",
   "pygments_lexer": "ipython3",
   "version": "3.10.12"
  }
 },
 "nbformat": 4,
 "nbformat_minor": 5
}
